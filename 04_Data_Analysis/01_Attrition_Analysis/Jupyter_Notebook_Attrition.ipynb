{
 "cells": [
  {
   "cell_type": "markdown",
   "id": "6a446e06",
   "metadata": {},
   "source": [
    "# 🧍 Attrition Analysis\n",
    "\n",
    "This notebook explores attrition drivers and workforce risk patterns based on HR data."
   ]
  },
  {
   "cell_type": "code",
   "execution_count": null,
   "id": "b92b8b04",
   "metadata": {},
   "outputs": [],
   "source": [
    "import pandas as pd\n",
    "import matplotlib.pyplot as plt\n",
    "import seaborn as sns\n",
    "\n",
    "# Load dataset\n",
    "hr_df = pd.read_csv('../data/HR_Attrition.csv')\n",
    "hr_df.head()"
   ]
  },
  {
   "cell_type": "markdown",
   "id": "385fe0b8",
   "metadata": {},
   "source": [
    "## 🔍 Key Questions\n",
    "- Which roles or departments show the highest attrition?\n",
    "- Are there early warning signs (e.g., years at company, work-life balance)?\n",
    "- Where could automation reduce pressure and risk of departure?"
   ]
  }
 ],
 "metadata": {},
 "nbformat": 4,
 "nbformat_minor": 5
}