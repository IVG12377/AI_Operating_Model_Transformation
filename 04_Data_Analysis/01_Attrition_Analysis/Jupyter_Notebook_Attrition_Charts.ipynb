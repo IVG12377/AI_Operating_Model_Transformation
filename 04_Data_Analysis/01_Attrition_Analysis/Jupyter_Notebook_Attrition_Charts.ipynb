{
 "cells": [
  {
   "cell_type": "markdown",
   "id": "5505e62c",
   "metadata": {},
   "source": [
    "# 📊 HR Attrition Visuals\n",
    "This notebook includes key visualizations to support strategic workforce insights."
   ]
  },
  {
   "cell_type": "markdown",
   "id": "932498bd",
   "metadata": {},
   "source": [
    "## Attrition by Job Role"
   ]
  },
  {
   "cell_type": "code",
   "execution_count": null,
   "id": "ff97d4b3",
   "metadata": {},
   "outputs": [],
   "source": [
    "job_attrition = hr_df.groupby(['JobRole', 'Attrition']).size().unstack()\n",
    "job_attrition.plot(kind='bar', stacked=True, colormap='viridis')\n",
    "plt.title('Attrition by Job Role')\n",
    "plt.xticks(rotation=45)\n",
    "plt.ylabel('Number of Employees')\n",
    "plt.show()"
   ]
  },
  {
   "cell_type": "markdown",
   "id": "26f538d7",
   "metadata": {},
   "source": [
    "## Attrition by Years at Company"
   ]
  },
  {
   "cell_type": "code",
   "execution_count": null,
   "id": "99c51e70",
   "metadata": {},
   "outputs": [],
   "source": [
    "years_attrition = hr_df.groupby(['YearsAtCompany', 'Attrition']).size().unstack()\n",
    "years_attrition.plot(kind='bar', stacked=True, figsize=(12,6), colormap='coolwarm')\n",
    "plt.title('Attrition by Years at Company')\n",
    "plt.xlabel('Years at Company')\n",
    "plt.ylabel('Number of Employees')\n",
    "plt.show()"
   ]
  },
  {
   "cell_type": "markdown",
   "id": "f98586cb",
   "metadata": {},
   "source": [
    "## Attrition by Age Group"
   ]
  },
  {
   "cell_type": "code",
   "execution_count": null,
   "id": "28015a2e",
   "metadata": {},
   "outputs": [],
   "source": [
    "hr_df['AgeGroup'] = pd.cut(hr_df['Age'], bins=[18, 29, 39, 49, 59, 69], \n",
    "                           labels=['18–29', '30–39', '40–49', '50–59', '60+'])\n",
    "\n",
    "age_attrition = hr_df.groupby(['AgeGroup', 'Attrition']).size().unstack()\n",
    "age_attrition.plot(kind='bar', stacked=True, colormap='Accent')\n",
    "plt.title('Attrition by Age Group')\n",
    "plt.xlabel('Age Group')\n",
    "plt.ylabel('Number of Employees')\n",
    "plt.show()"
   ]
  },
  {
   "cell_type": "markdown",
   "id": "df29b1d6",
   "metadata": {},
   "source": [
    "## Attrition by Work-Life Balance"
   ]
  },
  {
   "cell_type": "code",
   "execution_count": null,
   "id": "9c4d2303",
   "metadata": {},
   "outputs": [],
   "source": [
    "balance_attrition = hr_df.groupby(['WorkLifeBalance', 'Attrition']).size().unstack()\n",
    "balance_attrition.plot(kind='bar', stacked=True, colormap='Set2')\n",
    "plt.title('Attrition by Work-Life Balance Rating')\n",
    "plt.xlabel('Work-Life Balance (1 = Bad, 4 = Excellent)')\n",
    "plt.ylabel('Number of Employees')\n",
    "plt.show()"
   ]
  },
  {
   "cell_type": "markdown",
   "id": "b7c46516",
   "metadata": {},
   "source": [
    "## Overall Attrition Rate"
   ]
  },
  {
   "cell_type": "code",
   "execution_count": null,
   "id": "5ddddf6d",
   "metadata": {},
   "outputs": [],
   "source": [
    "attrition_rate = hr_df['Attrition'].value_counts(normalize=True) * 100\n",
    "print(\"Overall Attrition Rate:\\n\", attrition_rate)"
   ]
  }
 ],
 "metadata": {},
 "nbformat": 4,
 "nbformat_minor": 5
}